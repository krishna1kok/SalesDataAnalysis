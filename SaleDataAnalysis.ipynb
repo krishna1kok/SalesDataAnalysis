{
 "cells": [
  {
   "cell_type": "code",
   "execution_count": 1,
   "id": "9d383bf9",
   "metadata": {},
   "outputs": [],
   "source": [
    "#Import libraries\n",
    "\n",
    "import numpy as np\n",
    "import pandas as pd\n",
    "import matplotlib.pyplot as plt\n",
    "import seaborn as sns"
   ]
  },
  {
   "cell_type": "markdown",
   "id": "bf08afd0",
   "metadata": {},
   "source": [
    "# 1. Data Import and Initial Exploration\n",
    "\n",
    "In this step, data is loaded and a quick preview of the first rows is performed to understand the structure of the data"
   ]
  },
  {
   "cell_type": "code",
   "execution_count": 2,
   "id": "e08ed8fe",
   "metadata": {},
   "outputs": [
    {
     "data": {
      "text/html": [
       "<div>\n",
       "<style scoped>\n",
       "    .dataframe tbody tr th:only-of-type {\n",
       "        vertical-align: middle;\n",
       "    }\n",
       "\n",
       "    .dataframe tbody tr th {\n",
       "        vertical-align: top;\n",
       "    }\n",
       "\n",
       "    .dataframe thead th {\n",
       "        text-align: right;\n",
       "    }\n",
       "</style>\n",
       "<table border=\"1\" class=\"dataframe\">\n",
       "  <thead>\n",
       "    <tr style=\"text-align: right;\">\n",
       "      <th></th>\n",
       "      <th>0</th>\n",
       "      <th>1</th>\n",
       "      <th>2</th>\n",
       "      <th>3</th>\n",
       "      <th>4</th>\n",
       "      <th>5</th>\n",
       "      <th>6</th>\n",
       "      <th>7</th>\n",
       "      <th>8</th>\n",
       "      <th>9</th>\n",
       "      <th>10</th>\n",
       "      <th>11</th>\n",
       "      <th>12</th>\n",
       "      <th>13</th>\n",
       "      <th>14</th>\n",
       "      <th>15</th>\n",
       "    </tr>\n",
       "  </thead>\n",
       "  <tbody>\n",
       "    <tr>\n",
       "      <th>0</th>\n",
       "      <td>Segment&gt;&gt;</td>\n",
       "      <td>Consumer</td>\n",
       "      <td>NaN</td>\n",
       "      <td>NaN</td>\n",
       "      <td>NaN</td>\n",
       "      <td>Consumer Total</td>\n",
       "      <td>Corporate</td>\n",
       "      <td>NaN</td>\n",
       "      <td>NaN</td>\n",
       "      <td>NaN</td>\n",
       "      <td>Corporate Total</td>\n",
       "      <td>Home Office</td>\n",
       "      <td>NaN</td>\n",
       "      <td>NaN</td>\n",
       "      <td>NaN</td>\n",
       "      <td>Home Office Total</td>\n",
       "    </tr>\n",
       "    <tr>\n",
       "      <th>1</th>\n",
       "      <td>Ship Mode&gt;&gt;</td>\n",
       "      <td>First Class</td>\n",
       "      <td>Same Day</td>\n",
       "      <td>Second Class</td>\n",
       "      <td>Standard Class</td>\n",
       "      <td>NaN</td>\n",
       "      <td>First Class</td>\n",
       "      <td>Same Day</td>\n",
       "      <td>Second Class</td>\n",
       "      <td>Standard Class</td>\n",
       "      <td>NaN</td>\n",
       "      <td>First Class</td>\n",
       "      <td>Same Day</td>\n",
       "      <td>Second Class</td>\n",
       "      <td>Standard Class</td>\n",
       "      <td>NaN</td>\n",
       "    </tr>\n",
       "    <tr>\n",
       "      <th>2</th>\n",
       "      <td>Order ID</td>\n",
       "      <td>NaN</td>\n",
       "      <td>NaN</td>\n",
       "      <td>NaN</td>\n",
       "      <td>NaN</td>\n",
       "      <td>NaN</td>\n",
       "      <td>NaN</td>\n",
       "      <td>NaN</td>\n",
       "      <td>NaN</td>\n",
       "      <td>NaN</td>\n",
       "      <td>NaN</td>\n",
       "      <td>NaN</td>\n",
       "      <td>NaN</td>\n",
       "      <td>NaN</td>\n",
       "      <td>NaN</td>\n",
       "      <td>NaN</td>\n",
       "    </tr>\n",
       "    <tr>\n",
       "      <th>3</th>\n",
       "      <td>CA-2011-100293</td>\n",
       "      <td>NaN</td>\n",
       "      <td>NaN</td>\n",
       "      <td>NaN</td>\n",
       "      <td>NaN</td>\n",
       "      <td>NaN</td>\n",
       "      <td>NaN</td>\n",
       "      <td>NaN</td>\n",
       "      <td>NaN</td>\n",
       "      <td>NaN</td>\n",
       "      <td>NaN</td>\n",
       "      <td>NaN</td>\n",
       "      <td>NaN</td>\n",
       "      <td>NaN</td>\n",
       "      <td>91.056</td>\n",
       "      <td>91.056</td>\n",
       "    </tr>\n",
       "    <tr>\n",
       "      <th>4</th>\n",
       "      <td>CA-2011-100706</td>\n",
       "      <td>NaN</td>\n",
       "      <td>NaN</td>\n",
       "      <td>129.44</td>\n",
       "      <td>NaN</td>\n",
       "      <td>129.44</td>\n",
       "      <td>NaN</td>\n",
       "      <td>NaN</td>\n",
       "      <td>NaN</td>\n",
       "      <td>NaN</td>\n",
       "      <td>NaN</td>\n",
       "      <td>NaN</td>\n",
       "      <td>NaN</td>\n",
       "      <td>NaN</td>\n",
       "      <td>NaN</td>\n",
       "      <td>NaN</td>\n",
       "    </tr>\n",
       "  </tbody>\n",
       "</table>\n",
       "</div>"
      ],
      "text/plain": [
       "               0            1         2             3               4   \\\n",
       "0       Segment>>     Consumer       NaN           NaN             NaN   \n",
       "1     Ship Mode>>  First Class  Same Day  Second Class  Standard Class   \n",
       "2        Order ID          NaN       NaN           NaN             NaN   \n",
       "3  CA-2011-100293          NaN       NaN           NaN             NaN   \n",
       "4  CA-2011-100706          NaN       NaN        129.44             NaN   \n",
       "\n",
       "               5            6         7             8               9   \\\n",
       "0  Consumer Total    Corporate       NaN           NaN             NaN   \n",
       "1             NaN  First Class  Same Day  Second Class  Standard Class   \n",
       "2             NaN          NaN       NaN           NaN             NaN   \n",
       "3             NaN          NaN       NaN           NaN             NaN   \n",
       "4          129.44          NaN       NaN           NaN             NaN   \n",
       "\n",
       "                10           11        12            13              14  \\\n",
       "0  Corporate Total  Home Office       NaN           NaN             NaN   \n",
       "1              NaN  First Class  Same Day  Second Class  Standard Class   \n",
       "2              NaN          NaN       NaN           NaN             NaN   \n",
       "3              NaN          NaN       NaN           NaN          91.056   \n",
       "4              NaN          NaN       NaN           NaN             NaN   \n",
       "\n",
       "                  15  \n",
       "0  Home Office Total  \n",
       "1                NaN  \n",
       "2                NaN  \n",
       "3             91.056  \n",
       "4                NaN  "
      ]
     },
     "execution_count": 2,
     "metadata": {},
     "output_type": "execute_result"
    }
   ],
   "source": [
    "# import dataset and see first 5 rows of dataframe\n",
    "\n",
    "df = pd.read_excel('1BadlyStructuredSalesData12-220823-192255.xlsx', sheet_name='Dirty 1', header=None)\n",
    "\n",
    "df.head()"
   ]
  },
  {
   "cell_type": "markdown",
   "id": "0cd7c49e",
   "metadata": {},
   "source": [
    "# 2. Data Cleaning & Transformation"
   ]
  },
  {
   "cell_type": "markdown",
   "id": "32ee9e37",
   "metadata": {},
   "source": [
    "From the top 5 rows, it is evident that the dataframe doesn't have correct column names \n",
    "\n",
    "and we need to get these column names from the first three rows.\n",
    "\n",
    "From the fourth row, the dataframe has data.\n",
    "\n",
    "So first, subset the dataframe by exclusing the first three rows."
   ]
  },
  {
   "cell_type": "code",
   "execution_count": 3,
   "id": "ca3d44ba",
   "metadata": {},
   "outputs": [
    {
     "data": {
      "text/html": [
       "<div>\n",
       "<style scoped>\n",
       "    .dataframe tbody tr th:only-of-type {\n",
       "        vertical-align: middle;\n",
       "    }\n",
       "\n",
       "    .dataframe tbody tr th {\n",
       "        vertical-align: top;\n",
       "    }\n",
       "\n",
       "    .dataframe thead th {\n",
       "        text-align: right;\n",
       "    }\n",
       "</style>\n",
       "<table border=\"1\" class=\"dataframe\">\n",
       "  <thead>\n",
       "    <tr style=\"text-align: right;\">\n",
       "      <th></th>\n",
       "      <th>0</th>\n",
       "      <th>1</th>\n",
       "      <th>2</th>\n",
       "      <th>3</th>\n",
       "      <th>4</th>\n",
       "      <th>5</th>\n",
       "      <th>6</th>\n",
       "      <th>7</th>\n",
       "      <th>8</th>\n",
       "      <th>9</th>\n",
       "      <th>10</th>\n",
       "      <th>11</th>\n",
       "      <th>12</th>\n",
       "      <th>13</th>\n",
       "      <th>14</th>\n",
       "      <th>15</th>\n",
       "    </tr>\n",
       "  </thead>\n",
       "  <tbody>\n",
       "    <tr>\n",
       "      <th>3</th>\n",
       "      <td>CA-2011-100293</td>\n",
       "      <td>NaN</td>\n",
       "      <td>NaN</td>\n",
       "      <td>NaN</td>\n",
       "      <td>NaN</td>\n",
       "      <td>NaN</td>\n",
       "      <td>NaN</td>\n",
       "      <td>NaN</td>\n",
       "      <td>NaN</td>\n",
       "      <td>NaN</td>\n",
       "      <td>NaN</td>\n",
       "      <td>NaN</td>\n",
       "      <td>NaN</td>\n",
       "      <td>NaN</td>\n",
       "      <td>91.056</td>\n",
       "      <td>91.056</td>\n",
       "    </tr>\n",
       "    <tr>\n",
       "      <th>4</th>\n",
       "      <td>CA-2011-100706</td>\n",
       "      <td>NaN</td>\n",
       "      <td>NaN</td>\n",
       "      <td>129.44</td>\n",
       "      <td>NaN</td>\n",
       "      <td>129.44</td>\n",
       "      <td>NaN</td>\n",
       "      <td>NaN</td>\n",
       "      <td>NaN</td>\n",
       "      <td>NaN</td>\n",
       "      <td>NaN</td>\n",
       "      <td>NaN</td>\n",
       "      <td>NaN</td>\n",
       "      <td>NaN</td>\n",
       "      <td>NaN</td>\n",
       "      <td>NaN</td>\n",
       "    </tr>\n",
       "    <tr>\n",
       "      <th>5</th>\n",
       "      <td>CA-2011-100895</td>\n",
       "      <td>NaN</td>\n",
       "      <td>NaN</td>\n",
       "      <td>NaN</td>\n",
       "      <td>605.47</td>\n",
       "      <td>605.47</td>\n",
       "      <td>NaN</td>\n",
       "      <td>NaN</td>\n",
       "      <td>NaN</td>\n",
       "      <td>NaN</td>\n",
       "      <td>NaN</td>\n",
       "      <td>NaN</td>\n",
       "      <td>NaN</td>\n",
       "      <td>NaN</td>\n",
       "      <td>NaN</td>\n",
       "      <td>NaN</td>\n",
       "    </tr>\n",
       "    <tr>\n",
       "      <th>6</th>\n",
       "      <td>CA-2011-100916</td>\n",
       "      <td>NaN</td>\n",
       "      <td>NaN</td>\n",
       "      <td>NaN</td>\n",
       "      <td>NaN</td>\n",
       "      <td>NaN</td>\n",
       "      <td>NaN</td>\n",
       "      <td>NaN</td>\n",
       "      <td>NaN</td>\n",
       "      <td>788.86</td>\n",
       "      <td>788.86</td>\n",
       "      <td>NaN</td>\n",
       "      <td>NaN</td>\n",
       "      <td>NaN</td>\n",
       "      <td>NaN</td>\n",
       "      <td>NaN</td>\n",
       "    </tr>\n",
       "    <tr>\n",
       "      <th>7</th>\n",
       "      <td>CA-2011-101266</td>\n",
       "      <td>NaN</td>\n",
       "      <td>NaN</td>\n",
       "      <td>13.36</td>\n",
       "      <td>NaN</td>\n",
       "      <td>13.36</td>\n",
       "      <td>NaN</td>\n",
       "      <td>NaN</td>\n",
       "      <td>NaN</td>\n",
       "      <td>NaN</td>\n",
       "      <td>NaN</td>\n",
       "      <td>NaN</td>\n",
       "      <td>NaN</td>\n",
       "      <td>NaN</td>\n",
       "      <td>NaN</td>\n",
       "      <td>NaN</td>\n",
       "    </tr>\n",
       "  </tbody>\n",
       "</table>\n",
       "</div>"
      ],
      "text/plain": [
       "               0    1    2       3       4       5    6    7    8       9   \\\n",
       "3  CA-2011-100293  NaN  NaN     NaN     NaN     NaN  NaN  NaN  NaN     NaN   \n",
       "4  CA-2011-100706  NaN  NaN  129.44     NaN  129.44  NaN  NaN  NaN     NaN   \n",
       "5  CA-2011-100895  NaN  NaN     NaN  605.47  605.47  NaN  NaN  NaN     NaN   \n",
       "6  CA-2011-100916  NaN  NaN     NaN     NaN     NaN  NaN  NaN  NaN  788.86   \n",
       "7  CA-2011-101266  NaN  NaN   13.36     NaN   13.36  NaN  NaN  NaN     NaN   \n",
       "\n",
       "       10   11   12   13      14      15  \n",
       "3     NaN  NaN  NaN  NaN  91.056  91.056  \n",
       "4     NaN  NaN  NaN  NaN     NaN     NaN  \n",
       "5     NaN  NaN  NaN  NaN     NaN     NaN  \n",
       "6  788.86  NaN  NaN  NaN     NaN     NaN  \n",
       "7     NaN  NaN  NaN  NaN     NaN     NaN  "
      ]
     },
     "execution_count": 3,
     "metadata": {},
     "output_type": "execute_result"
    }
   ],
   "source": [
    "# Removing irrelevant rows from the dataset.\n",
    "\n",
    "df = df.iloc[3:]\n",
    "\n",
    "df.head()"
   ]
  },
  {
   "cell_type": "markdown",
   "id": "d178257b",
   "metadata": {},
   "source": [
    "Now need to provide proper column names "
   ]
  },
  {
   "cell_type": "code",
   "execution_count": 4,
   "id": "cf22c1bb",
   "metadata": {},
   "outputs": [
    {
     "data": {
      "text/html": [
       "<div>\n",
       "<style scoped>\n",
       "    .dataframe tbody tr th:only-of-type {\n",
       "        vertical-align: middle;\n",
       "    }\n",
       "\n",
       "    .dataframe tbody tr th {\n",
       "        vertical-align: top;\n",
       "    }\n",
       "\n",
       "    .dataframe thead th {\n",
       "        text-align: right;\n",
       "    }\n",
       "</style>\n",
       "<table border=\"1\" class=\"dataframe\">\n",
       "  <thead>\n",
       "    <tr style=\"text-align: right;\">\n",
       "      <th></th>\n",
       "      <th>OrderId</th>\n",
       "      <th>Consumer:FirstClass</th>\n",
       "      <th>Consumer:Sameday</th>\n",
       "      <th>Consumer:Secondclass</th>\n",
       "      <th>Consumer:StandardClass</th>\n",
       "      <th>Consumer:Total</th>\n",
       "      <th>Corporate :FirstClass</th>\n",
       "      <th>Corporate :Sameday</th>\n",
       "      <th>Corporate :Secondclass</th>\n",
       "      <th>Corporate :StandardClass</th>\n",
       "      <th>Corporate :Total</th>\n",
       "      <th>HomeOffice:FirstClass</th>\n",
       "      <th>HomeOffice:Sameday</th>\n",
       "      <th>HomeOffice:Secondclass</th>\n",
       "      <th>HomeOffice:StandardClass</th>\n",
       "      <th>HomeOffice:Total</th>\n",
       "    </tr>\n",
       "  </thead>\n",
       "  <tbody>\n",
       "    <tr>\n",
       "      <th>3</th>\n",
       "      <td>CA-2011-100293</td>\n",
       "      <td>NaN</td>\n",
       "      <td>NaN</td>\n",
       "      <td>NaN</td>\n",
       "      <td>NaN</td>\n",
       "      <td>NaN</td>\n",
       "      <td>NaN</td>\n",
       "      <td>NaN</td>\n",
       "      <td>NaN</td>\n",
       "      <td>NaN</td>\n",
       "      <td>NaN</td>\n",
       "      <td>NaN</td>\n",
       "      <td>NaN</td>\n",
       "      <td>NaN</td>\n",
       "      <td>91.056</td>\n",
       "      <td>91.056</td>\n",
       "    </tr>\n",
       "    <tr>\n",
       "      <th>4</th>\n",
       "      <td>CA-2011-100706</td>\n",
       "      <td>NaN</td>\n",
       "      <td>NaN</td>\n",
       "      <td>129.44</td>\n",
       "      <td>NaN</td>\n",
       "      <td>129.44</td>\n",
       "      <td>NaN</td>\n",
       "      <td>NaN</td>\n",
       "      <td>NaN</td>\n",
       "      <td>NaN</td>\n",
       "      <td>NaN</td>\n",
       "      <td>NaN</td>\n",
       "      <td>NaN</td>\n",
       "      <td>NaN</td>\n",
       "      <td>NaN</td>\n",
       "      <td>NaN</td>\n",
       "    </tr>\n",
       "    <tr>\n",
       "      <th>5</th>\n",
       "      <td>CA-2011-100895</td>\n",
       "      <td>NaN</td>\n",
       "      <td>NaN</td>\n",
       "      <td>NaN</td>\n",
       "      <td>605.47</td>\n",
       "      <td>605.47</td>\n",
       "      <td>NaN</td>\n",
       "      <td>NaN</td>\n",
       "      <td>NaN</td>\n",
       "      <td>NaN</td>\n",
       "      <td>NaN</td>\n",
       "      <td>NaN</td>\n",
       "      <td>NaN</td>\n",
       "      <td>NaN</td>\n",
       "      <td>NaN</td>\n",
       "      <td>NaN</td>\n",
       "    </tr>\n",
       "    <tr>\n",
       "      <th>6</th>\n",
       "      <td>CA-2011-100916</td>\n",
       "      <td>NaN</td>\n",
       "      <td>NaN</td>\n",
       "      <td>NaN</td>\n",
       "      <td>NaN</td>\n",
       "      <td>NaN</td>\n",
       "      <td>NaN</td>\n",
       "      <td>NaN</td>\n",
       "      <td>NaN</td>\n",
       "      <td>788.86</td>\n",
       "      <td>788.86</td>\n",
       "      <td>NaN</td>\n",
       "      <td>NaN</td>\n",
       "      <td>NaN</td>\n",
       "      <td>NaN</td>\n",
       "      <td>NaN</td>\n",
       "    </tr>\n",
       "    <tr>\n",
       "      <th>7</th>\n",
       "      <td>CA-2011-101266</td>\n",
       "      <td>NaN</td>\n",
       "      <td>NaN</td>\n",
       "      <td>13.36</td>\n",
       "      <td>NaN</td>\n",
       "      <td>13.36</td>\n",
       "      <td>NaN</td>\n",
       "      <td>NaN</td>\n",
       "      <td>NaN</td>\n",
       "      <td>NaN</td>\n",
       "      <td>NaN</td>\n",
       "      <td>NaN</td>\n",
       "      <td>NaN</td>\n",
       "      <td>NaN</td>\n",
       "      <td>NaN</td>\n",
       "      <td>NaN</td>\n",
       "    </tr>\n",
       "  </tbody>\n",
       "</table>\n",
       "</div>"
      ],
      "text/plain": [
       "          OrderId Consumer:FirstClass Consumer:Sameday Consumer:Secondclass  \\\n",
       "3  CA-2011-100293                 NaN              NaN                  NaN   \n",
       "4  CA-2011-100706                 NaN              NaN               129.44   \n",
       "5  CA-2011-100895                 NaN              NaN                  NaN   \n",
       "6  CA-2011-100916                 NaN              NaN                  NaN   \n",
       "7  CA-2011-101266                 NaN              NaN                13.36   \n",
       "\n",
       "  Consumer:StandardClass Consumer:Total Corporate :FirstClass  \\\n",
       "3                    NaN            NaN                   NaN   \n",
       "4                    NaN         129.44                   NaN   \n",
       "5                 605.47         605.47                   NaN   \n",
       "6                    NaN            NaN                   NaN   \n",
       "7                    NaN          13.36                   NaN   \n",
       "\n",
       "  Corporate :Sameday Corporate :Secondclass Corporate :StandardClass  \\\n",
       "3                NaN                    NaN                      NaN   \n",
       "4                NaN                    NaN                      NaN   \n",
       "5                NaN                    NaN                      NaN   \n",
       "6                NaN                    NaN                   788.86   \n",
       "7                NaN                    NaN                      NaN   \n",
       "\n",
       "  Corporate :Total HomeOffice:FirstClass HomeOffice:Sameday  \\\n",
       "3              NaN                   NaN                NaN   \n",
       "4              NaN                   NaN                NaN   \n",
       "5              NaN                   NaN                NaN   \n",
       "6           788.86                   NaN                NaN   \n",
       "7              NaN                   NaN                NaN   \n",
       "\n",
       "  HomeOffice:Secondclass HomeOffice:StandardClass HomeOffice:Total  \n",
       "3                    NaN                   91.056           91.056  \n",
       "4                    NaN                      NaN              NaN  \n",
       "5                    NaN                      NaN              NaN  \n",
       "6                    NaN                      NaN              NaN  \n",
       "7                    NaN                      NaN              NaN  "
      ]
     },
     "execution_count": 4,
     "metadata": {},
     "output_type": "execute_result"
    }
   ],
   "source": [
    "# Renaming and assigning meaningful column names.\n",
    "header = ['OrderId','Consumer:FirstClass','Consumer:Sameday','Consumer:Secondclass','Consumer:StandardClass','Consumer:Total',\n",
    "         'Corporate :FirstClass','Corporate :Sameday','Corporate :Secondclass','Corporate :StandardClass','Corporate :Total',\n",
    "         'HomeOffice:FirstClass','HomeOffice:Sameday','HomeOffice:Secondclass','HomeOffice:StandardClass','HomeOffice:Total',\n",
    "         ]\n",
    "\n",
    "df.columns = header\n",
    "\n",
    "df.head()"
   ]
  },
  {
   "cell_type": "markdown",
   "id": "38870b1a",
   "metadata": {},
   "source": [
    "The above data looks pivoted (wide -- hard to read) with so many columns and null values.\n",
    "\n",
    "It can be avoided by doing unpivoting (long -- easy to read) the data by categorizing the Segment and ShipMode properly. \n",
    "\n",
    "After that null values needs be avoided."
   ]
  },
  {
   "cell_type": "code",
   "execution_count": 5,
   "id": "23ffa888",
   "metadata": {},
   "outputs": [
    {
     "data": {
      "text/html": [
       "<div>\n",
       "<style scoped>\n",
       "    .dataframe tbody tr th:only-of-type {\n",
       "        vertical-align: middle;\n",
       "    }\n",
       "\n",
       "    .dataframe tbody tr th {\n",
       "        vertical-align: top;\n",
       "    }\n",
       "\n",
       "    .dataframe thead th {\n",
       "        text-align: right;\n",
       "    }\n",
       "</style>\n",
       "<table border=\"1\" class=\"dataframe\">\n",
       "  <thead>\n",
       "    <tr style=\"text-align: right;\">\n",
       "      <th></th>\n",
       "      <th>OrderId</th>\n",
       "      <th>variable</th>\n",
       "      <th>value</th>\n",
       "    </tr>\n",
       "  </thead>\n",
       "  <tbody>\n",
       "    <tr>\n",
       "      <th>0</th>\n",
       "      <td>CA-2011-100293</td>\n",
       "      <td>Consumer:FirstClass</td>\n",
       "      <td>NaN</td>\n",
       "    </tr>\n",
       "    <tr>\n",
       "      <th>1</th>\n",
       "      <td>CA-2011-100706</td>\n",
       "      <td>Consumer:FirstClass</td>\n",
       "      <td>NaN</td>\n",
       "    </tr>\n",
       "    <tr>\n",
       "      <th>2</th>\n",
       "      <td>CA-2011-100895</td>\n",
       "      <td>Consumer:FirstClass</td>\n",
       "      <td>NaN</td>\n",
       "    </tr>\n",
       "    <tr>\n",
       "      <th>3</th>\n",
       "      <td>CA-2011-100916</td>\n",
       "      <td>Consumer:FirstClass</td>\n",
       "      <td>NaN</td>\n",
       "    </tr>\n",
       "    <tr>\n",
       "      <th>4</th>\n",
       "      <td>CA-2011-101266</td>\n",
       "      <td>Consumer:FirstClass</td>\n",
       "      <td>NaN</td>\n",
       "    </tr>\n",
       "  </tbody>\n",
       "</table>\n",
       "</div>"
      ],
      "text/plain": [
       "          OrderId             variable value\n",
       "0  CA-2011-100293  Consumer:FirstClass   NaN\n",
       "1  CA-2011-100706  Consumer:FirstClass   NaN\n",
       "2  CA-2011-100895  Consumer:FirstClass   NaN\n",
       "3  CA-2011-100916  Consumer:FirstClass   NaN\n",
       "4  CA-2011-101266  Consumer:FirstClass   NaN"
      ]
     },
     "execution_count": 5,
     "metadata": {},
     "output_type": "execute_result"
    }
   ],
   "source": [
    "# Reshaping the data from wide format to long format.\n",
    "df_long = pd.melt(df,id_vars=['OrderId'])\n",
    "\n",
    "df_long.head()"
   ]
  },
  {
   "cell_type": "markdown",
   "id": "72848a8a",
   "metadata": {},
   "source": [
    "Now will check for dimenssion of the dataframe and missing values"
   ]
  },
  {
   "cell_type": "code",
   "execution_count": 6,
   "id": "dbbf7ba5",
   "metadata": {},
   "outputs": [
    {
     "data": {
      "text/plain": [
       "(12345, 3)"
      ]
     },
     "execution_count": 6,
     "metadata": {},
     "output_type": "execute_result"
    }
   ],
   "source": [
    "df_long.shape"
   ]
  },
  {
   "cell_type": "code",
   "execution_count": 7,
   "id": "31a61d19",
   "metadata": {},
   "outputs": [
    {
     "name": "stdout",
     "output_type": "stream",
     "text": [
      "<class 'pandas.core.frame.DataFrame'>\n",
      "RangeIndex: 12345 entries, 0 to 12344\n",
      "Data columns (total 3 columns):\n",
      " #   Column    Non-Null Count  Dtype \n",
      "---  ------    --------------  ----- \n",
      " 0   OrderId   12345 non-null  object\n",
      " 1   variable  12345 non-null  object\n",
      " 2   value     1659 non-null   object\n",
      "dtypes: object(3)\n",
      "memory usage: 289.5+ KB\n"
     ]
    }
   ],
   "source": [
    "df_long.info()"
   ]
  },
  {
   "cell_type": "code",
   "execution_count": 8,
   "id": "4501fad9",
   "metadata": {},
   "outputs": [
    {
     "data": {
      "text/plain": [
       "OrderId         0\n",
       "variable        0\n",
       "value       10686\n",
       "dtype: int64"
      ]
     },
     "execution_count": 8,
     "metadata": {},
     "output_type": "execute_result"
    }
   ],
   "source": [
    "# Finding missing values by field wise.\n",
    "df_long.isnull().sum()"
   ]
  },
  {
   "cell_type": "code",
   "execution_count": 9,
   "id": "8d78d005",
   "metadata": {},
   "outputs": [
    {
     "data": {
      "text/html": [
       "<div>\n",
       "<style scoped>\n",
       "    .dataframe tbody tr th:only-of-type {\n",
       "        vertical-align: middle;\n",
       "    }\n",
       "\n",
       "    .dataframe tbody tr th {\n",
       "        vertical-align: top;\n",
       "    }\n",
       "\n",
       "    .dataframe thead th {\n",
       "        text-align: right;\n",
       "    }\n",
       "</style>\n",
       "<table border=\"1\" class=\"dataframe\">\n",
       "  <thead>\n",
       "    <tr style=\"text-align: right;\">\n",
       "      <th></th>\n",
       "      <th>OrderId</th>\n",
       "      <th>variable</th>\n",
       "      <th>value</th>\n",
       "    </tr>\n",
       "  </thead>\n",
       "  <tbody>\n",
       "    <tr>\n",
       "      <th>11</th>\n",
       "      <td>CA-2011-103366</td>\n",
       "      <td>Consumer:FirstClass</td>\n",
       "      <td>149.95</td>\n",
       "    </tr>\n",
       "    <tr>\n",
       "      <th>20</th>\n",
       "      <td>CA-2011-109043</td>\n",
       "      <td>Consumer:FirstClass</td>\n",
       "      <td>243.6</td>\n",
       "    </tr>\n",
       "    <tr>\n",
       "      <th>29</th>\n",
       "      <td>CA-2011-113166</td>\n",
       "      <td>Consumer:FirstClass</td>\n",
       "      <td>9.568</td>\n",
       "    </tr>\n",
       "    <tr>\n",
       "      <th>51</th>\n",
       "      <td>CA-2011-124023</td>\n",
       "      <td>Consumer:FirstClass</td>\n",
       "      <td>8.96</td>\n",
       "    </tr>\n",
       "    <tr>\n",
       "      <th>63</th>\n",
       "      <td>CA-2011-130155</td>\n",
       "      <td>Consumer:FirstClass</td>\n",
       "      <td>34.2</td>\n",
       "    </tr>\n",
       "  </tbody>\n",
       "</table>\n",
       "</div>"
      ],
      "text/plain": [
       "           OrderId             variable   value\n",
       "11  CA-2011-103366  Consumer:FirstClass  149.95\n",
       "20  CA-2011-109043  Consumer:FirstClass   243.6\n",
       "29  CA-2011-113166  Consumer:FirstClass   9.568\n",
       "51  CA-2011-124023  Consumer:FirstClass    8.96\n",
       "63  CA-2011-130155  Consumer:FirstClass    34.2"
      ]
     },
     "execution_count": 9,
     "metadata": {},
     "output_type": "execute_result"
    }
   ],
   "source": [
    "# Dropping missing values \n",
    "df_long.dropna(inplace=True)\n",
    "\n",
    "df_long.head()"
   ]
  },
  {
   "cell_type": "code",
   "execution_count": 10,
   "id": "d7aa0675",
   "metadata": {},
   "outputs": [
    {
     "data": {
      "text/plain": [
       "OrderId     0\n",
       "variable    0\n",
       "value       0\n",
       "dtype: int64"
      ]
     },
     "execution_count": 10,
     "metadata": {},
     "output_type": "execute_result"
    }
   ],
   "source": [
    "#  Ensuring dropping null values was successful.\n",
    "df_long.isnull().sum()"
   ]
  },
  {
   "cell_type": "markdown",
   "id": "1f5212e0",
   "metadata": {},
   "source": [
    "From the above data, the \"variable\" column is still the combination of \"Segment\" and \"ShipMode\".\n",
    "\n",
    "These two categories separated as follows to have meaningful fields.\n",
    "\n"
   ]
  },
  {
   "cell_type": "code",
   "execution_count": 11,
   "id": "5e37ecfb",
   "metadata": {},
   "outputs": [
    {
     "data": {
      "text/html": [
       "<div>\n",
       "<style scoped>\n",
       "    .dataframe tbody tr th:only-of-type {\n",
       "        vertical-align: middle;\n",
       "    }\n",
       "\n",
       "    .dataframe tbody tr th {\n",
       "        vertical-align: top;\n",
       "    }\n",
       "\n",
       "    .dataframe thead th {\n",
       "        text-align: right;\n",
       "    }\n",
       "</style>\n",
       "<table border=\"1\" class=\"dataframe\">\n",
       "  <thead>\n",
       "    <tr style=\"text-align: right;\">\n",
       "      <th></th>\n",
       "      <th>OrderId</th>\n",
       "      <th>Segment</th>\n",
       "      <th>ShipMode</th>\n",
       "      <th>value</th>\n",
       "    </tr>\n",
       "  </thead>\n",
       "  <tbody>\n",
       "    <tr>\n",
       "      <th>11</th>\n",
       "      <td>CA-2011-103366</td>\n",
       "      <td>Consumer</td>\n",
       "      <td>FirstClass</td>\n",
       "      <td>149.95</td>\n",
       "    </tr>\n",
       "    <tr>\n",
       "      <th>20</th>\n",
       "      <td>CA-2011-109043</td>\n",
       "      <td>Consumer</td>\n",
       "      <td>FirstClass</td>\n",
       "      <td>243.6</td>\n",
       "    </tr>\n",
       "    <tr>\n",
       "      <th>29</th>\n",
       "      <td>CA-2011-113166</td>\n",
       "      <td>Consumer</td>\n",
       "      <td>FirstClass</td>\n",
       "      <td>9.568</td>\n",
       "    </tr>\n",
       "    <tr>\n",
       "      <th>51</th>\n",
       "      <td>CA-2011-124023</td>\n",
       "      <td>Consumer</td>\n",
       "      <td>FirstClass</td>\n",
       "      <td>8.96</td>\n",
       "    </tr>\n",
       "    <tr>\n",
       "      <th>63</th>\n",
       "      <td>CA-2011-130155</td>\n",
       "      <td>Consumer</td>\n",
       "      <td>FirstClass</td>\n",
       "      <td>34.2</td>\n",
       "    </tr>\n",
       "  </tbody>\n",
       "</table>\n",
       "</div>"
      ],
      "text/plain": [
       "           OrderId   Segment    ShipMode   value\n",
       "11  CA-2011-103366  Consumer  FirstClass  149.95\n",
       "20  CA-2011-109043  Consumer  FirstClass   243.6\n",
       "29  CA-2011-113166  Consumer  FirstClass   9.568\n",
       "51  CA-2011-124023  Consumer  FirstClass    8.96\n",
       "63  CA-2011-130155  Consumer  FirstClass    34.2"
      ]
     },
     "execution_count": 11,
     "metadata": {},
     "output_type": "execute_result"
    }
   ],
   "source": [
    "\n",
    "# Splitting the variable column into meaningful components like \"Segment\" and \"ShipMode\".\n",
    "\n",
    "df_long[['Segment','ShipMode']] = df_long['variable'].str.split(':',expand=True)\n",
    "\n",
    "filt = (df_long['ShipMode']!='Total') & (df_long['OrderId']!='Grand Total')\n",
    "df = df_long[filt][['OrderId','Segment','ShipMode','value']]\n",
    "\n",
    "\n",
    "\n",
    "df.head()"
   ]
  },
  {
   "cell_type": "code",
   "execution_count": 12,
   "id": "ef82e97c",
   "metadata": {},
   "outputs": [
    {
     "data": {
      "text/plain": [
       "Index(['OrderId', 'Segment', 'ShipMode', 'value'], dtype='object')"
      ]
     },
     "execution_count": 12,
     "metadata": {},
     "output_type": "execute_result"
    }
   ],
   "source": [
    "# Checking newly updated dataframe column names\n",
    "df.columns"
   ]
  },
  {
   "cell_type": "code",
   "execution_count": 13,
   "id": "025844dc",
   "metadata": {},
   "outputs": [
    {
     "data": {
      "text/plain": [
       "OrderId     object\n",
       "Segment     object\n",
       "ShipMode    object\n",
       "value       object\n",
       "dtype: object"
      ]
     },
     "execution_count": 13,
     "metadata": {},
     "output_type": "execute_result"
    }
   ],
   "source": [
    "# Checking newly updated dataframe data types\n",
    "df.dtypes"
   ]
  },
  {
   "cell_type": "markdown",
   "id": "92530873",
   "metadata": {},
   "source": [
    "1. Renaming the \"value\" filed to \"Total\"\n",
    "\n",
    "\n",
    "\n",
    "2. Converting the \"Total\" column to ineger type\n",
    "\n"
   ]
  },
  {
   "cell_type": "code",
   "execution_count": 14,
   "id": "d90da276",
   "metadata": {},
   "outputs": [],
   "source": [
    "# Renaming and transforming data types for consistency.\n",
    "\n",
    "df.rename(columns={'value':'Total'}, inplace=True)\n",
    "\n",
    "df['Total'] = df['Total'].astype(float)"
   ]
  },
  {
   "cell_type": "code",
   "execution_count": 15,
   "id": "1a141c67",
   "metadata": {},
   "outputs": [
    {
     "data": {
      "text/html": [
       "<div>\n",
       "<style scoped>\n",
       "    .dataframe tbody tr th:only-of-type {\n",
       "        vertical-align: middle;\n",
       "    }\n",
       "\n",
       "    .dataframe tbody tr th {\n",
       "        vertical-align: top;\n",
       "    }\n",
       "\n",
       "    .dataframe thead th {\n",
       "        text-align: right;\n",
       "    }\n",
       "</style>\n",
       "<table border=\"1\" class=\"dataframe\">\n",
       "  <thead>\n",
       "    <tr style=\"text-align: right;\">\n",
       "      <th></th>\n",
       "      <th>OrderId</th>\n",
       "      <th>Segment</th>\n",
       "      <th>ShipMode</th>\n",
       "      <th>Total</th>\n",
       "    </tr>\n",
       "  </thead>\n",
       "  <tbody>\n",
       "    <tr>\n",
       "      <th>11</th>\n",
       "      <td>CA-2011-103366</td>\n",
       "      <td>Consumer</td>\n",
       "      <td>FirstClass</td>\n",
       "      <td>149.950</td>\n",
       "    </tr>\n",
       "    <tr>\n",
       "      <th>20</th>\n",
       "      <td>CA-2011-109043</td>\n",
       "      <td>Consumer</td>\n",
       "      <td>FirstClass</td>\n",
       "      <td>243.600</td>\n",
       "    </tr>\n",
       "    <tr>\n",
       "      <th>29</th>\n",
       "      <td>CA-2011-113166</td>\n",
       "      <td>Consumer</td>\n",
       "      <td>FirstClass</td>\n",
       "      <td>9.568</td>\n",
       "    </tr>\n",
       "    <tr>\n",
       "      <th>51</th>\n",
       "      <td>CA-2011-124023</td>\n",
       "      <td>Consumer</td>\n",
       "      <td>FirstClass</td>\n",
       "      <td>8.960</td>\n",
       "    </tr>\n",
       "    <tr>\n",
       "      <th>63</th>\n",
       "      <td>CA-2011-130155</td>\n",
       "      <td>Consumer</td>\n",
       "      <td>FirstClass</td>\n",
       "      <td>34.200</td>\n",
       "    </tr>\n",
       "  </tbody>\n",
       "</table>\n",
       "</div>"
      ],
      "text/plain": [
       "           OrderId   Segment    ShipMode    Total\n",
       "11  CA-2011-103366  Consumer  FirstClass  149.950\n",
       "20  CA-2011-109043  Consumer  FirstClass  243.600\n",
       "29  CA-2011-113166  Consumer  FirstClass    9.568\n",
       "51  CA-2011-124023  Consumer  FirstClass    8.960\n",
       "63  CA-2011-130155  Consumer  FirstClass   34.200"
      ]
     },
     "execution_count": 15,
     "metadata": {},
     "output_type": "execute_result"
    }
   ],
   "source": [
    "df.head()"
   ]
  },
  {
   "cell_type": "markdown",
   "id": "f7c6b776",
   "metadata": {},
   "source": [
    "The OrderId field is the combination of \"Country\" and \"Year\".\n",
    "\n",
    "Extracting 'Year' and 'Country' from the OrderId creates new features that make the data more useful for analysis.\n",
    "\n",
    "These features can help in grouping, filtering, or identifying trends in the dataset."
   ]
  },
  {
   "cell_type": "code",
   "execution_count": 18,
   "id": "e56fe1c4",
   "metadata": {},
   "outputs": [
    {
     "data": {
      "text/html": [
       "<div>\n",
       "<style scoped>\n",
       "    .dataframe tbody tr th:only-of-type {\n",
       "        vertical-align: middle;\n",
       "    }\n",
       "\n",
       "    .dataframe tbody tr th {\n",
       "        vertical-align: top;\n",
       "    }\n",
       "\n",
       "    .dataframe thead th {\n",
       "        text-align: right;\n",
       "    }\n",
       "</style>\n",
       "<table border=\"1\" class=\"dataframe\">\n",
       "  <thead>\n",
       "    <tr style=\"text-align: right;\">\n",
       "      <th></th>\n",
       "      <th>OrderId</th>\n",
       "      <th>Segment</th>\n",
       "      <th>ShipMode</th>\n",
       "      <th>Total</th>\n",
       "      <th>Year</th>\n",
       "      <th>Country</th>\n",
       "    </tr>\n",
       "  </thead>\n",
       "  <tbody>\n",
       "    <tr>\n",
       "      <th>11</th>\n",
       "      <td>CA-2011-103366</td>\n",
       "      <td>Consumer</td>\n",
       "      <td>FirstClass</td>\n",
       "      <td>149.950</td>\n",
       "      <td>2011</td>\n",
       "      <td>CA</td>\n",
       "    </tr>\n",
       "    <tr>\n",
       "      <th>20</th>\n",
       "      <td>CA-2011-109043</td>\n",
       "      <td>Consumer</td>\n",
       "      <td>FirstClass</td>\n",
       "      <td>243.600</td>\n",
       "      <td>2011</td>\n",
       "      <td>CA</td>\n",
       "    </tr>\n",
       "    <tr>\n",
       "      <th>29</th>\n",
       "      <td>CA-2011-113166</td>\n",
       "      <td>Consumer</td>\n",
       "      <td>FirstClass</td>\n",
       "      <td>9.568</td>\n",
       "      <td>2011</td>\n",
       "      <td>CA</td>\n",
       "    </tr>\n",
       "    <tr>\n",
       "      <th>51</th>\n",
       "      <td>CA-2011-124023</td>\n",
       "      <td>Consumer</td>\n",
       "      <td>FirstClass</td>\n",
       "      <td>8.960</td>\n",
       "      <td>2011</td>\n",
       "      <td>CA</td>\n",
       "    </tr>\n",
       "    <tr>\n",
       "      <th>63</th>\n",
       "      <td>CA-2011-130155</td>\n",
       "      <td>Consumer</td>\n",
       "      <td>FirstClass</td>\n",
       "      <td>34.200</td>\n",
       "      <td>2011</td>\n",
       "      <td>CA</td>\n",
       "    </tr>\n",
       "  </tbody>\n",
       "</table>\n",
       "</div>"
      ],
      "text/plain": [
       "           OrderId   Segment    ShipMode    Total  Year Country\n",
       "11  CA-2011-103366  Consumer  FirstClass  149.950  2011      CA\n",
       "20  CA-2011-109043  Consumer  FirstClass  243.600  2011      CA\n",
       "29  CA-2011-113166  Consumer  FirstClass    9.568  2011      CA\n",
       "51  CA-2011-124023  Consumer  FirstClass    8.960  2011      CA\n",
       "63  CA-2011-130155  Consumer  FirstClass   34.200  2011      CA"
      ]
     },
     "execution_count": 18,
     "metadata": {},
     "output_type": "execute_result"
    }
   ],
   "source": [
    "# adding new features Year and Country from OrderId\n",
    "df['Year'] = df['OrderId'].str[3:7]\n",
    "\n",
    "df['Country'] = df['OrderId'].str[0:2]\n",
    "\n",
    "df.head()"
   ]
  },
  {
   "cell_type": "code",
   "execution_count": 19,
   "id": "43d4da01",
   "metadata": {},
   "outputs": [
    {
     "data": {
      "text/plain": [
       "array(['CA', 'US'], dtype=object)"
      ]
     },
     "execution_count": 19,
     "metadata": {},
     "output_type": "execute_result"
    }
   ],
   "source": [
    "df['Country'].unique()"
   ]
  },
  {
   "cell_type": "markdown",
   "id": "dbcc54c4",
   "metadata": {},
   "source": [
    "# 3. Univariate Analysis, outlier detection and distribution visualization"
   ]
  },
  {
   "cell_type": "code",
   "execution_count": 20,
   "id": "f6d4c696",
   "metadata": {},
   "outputs": [
    {
     "data": {
      "text/plain": [
       "count      822.00000\n",
       "mean       476.54733\n",
       "std       1144.58992\n",
       "min          1.16700\n",
       "25%         34.54050\n",
       "50%        159.97500\n",
       "75%        536.11000\n",
       "max      23661.22800\n",
       "Name: Total, dtype: float64"
      ]
     },
     "execution_count": 20,
     "metadata": {},
     "output_type": "execute_result"
    }
   ],
   "source": [
    "# statistical summary (mean, min, max, quartiles) of the Total column.\n",
    "\n",
    "df['Total'].describe()"
   ]
  },
  {
   "cell_type": "code",
   "execution_count": 21,
   "id": "4c66a81b",
   "metadata": {},
   "outputs": [
    {
     "data": {
      "image/png": "[encoded data removed]",
      "text/plain": [
       "<Figure size 432x288 with 1 Axes>"
      ]
     },
     "metadata": {
      "needs_background": "light"
     },
     "output_type": "display_data"
    }
   ],
   "source": [
    "# Visualizes the distribution of the Total variable using a histogram.\n",
    "\n",
    "ax = sns.histplot(x='Total', data=df, bins=40)\n",
    "ax.set_yscale('log')\n",
    "\n",
    "ax.set_title('Distribution of Total value before removing outliers');\n",
    "\n",
    "sns.despine()"
   ]
  },
  {
   "cell_type": "code",
   "execution_count": 22,
   "id": "12b276f7",
   "metadata": {},
   "outputs": [
    {
     "data": {
      "text/html": [
       "<div>\n",
       "<style scoped>\n",
       "    .dataframe tbody tr th:only-of-type {\n",
       "        vertical-align: middle;\n",
       "    }\n",
       "\n",
       "    .dataframe tbody tr th {\n",
       "        vertical-align: top;\n",
       "    }\n",
       "\n",
       "    .dataframe thead th {\n",
       "        text-align: right;\n",
       "    }\n",
       "</style>\n",
       "<table border=\"1\" class=\"dataframe\">\n",
       "  <thead>\n",
       "    <tr style=\"text-align: right;\">\n",
       "      <th></th>\n",
       "      <th>OrderId</th>\n",
       "      <th>Segment</th>\n",
       "      <th>ShipMode</th>\n",
       "      <th>Total</th>\n",
       "      <th>Year</th>\n",
       "      <th>Country</th>\n",
       "      <th>isOutlier</th>\n",
       "    </tr>\n",
       "  </thead>\n",
       "  <tbody>\n",
       "    <tr>\n",
       "      <th>11</th>\n",
       "      <td>CA-2011-103366</td>\n",
       "      <td>Consumer</td>\n",
       "      <td>FirstClass</td>\n",
       "      <td>149.950</td>\n",
       "      <td>2011</td>\n",
       "      <td>CA</td>\n",
       "      <td>False</td>\n",
       "    </tr>\n",
       "    <tr>\n",
       "      <th>20</th>\n",
       "      <td>CA-2011-109043</td>\n",
       "      <td>Consumer</td>\n",
       "      <td>FirstClass</td>\n",
       "      <td>243.600</td>\n",
       "      <td>2011</td>\n",
       "      <td>CA</td>\n",
       "      <td>False</td>\n",
       "    </tr>\n",
       "    <tr>\n",
       "      <th>29</th>\n",
       "      <td>CA-2011-113166</td>\n",
       "      <td>Consumer</td>\n",
       "      <td>FirstClass</td>\n",
       "      <td>9.568</td>\n",
       "      <td>2011</td>\n",
       "      <td>CA</td>\n",
       "      <td>False</td>\n",
       "    </tr>\n",
       "    <tr>\n",
       "      <th>51</th>\n",
       "      <td>CA-2011-124023</td>\n",
       "      <td>Consumer</td>\n",
       "      <td>FirstClass</td>\n",
       "      <td>8.960</td>\n",
       "      <td>2011</td>\n",
       "      <td>CA</td>\n",
       "      <td>False</td>\n",
       "    </tr>\n",
       "    <tr>\n",
       "      <th>63</th>\n",
       "      <td>CA-2011-130155</td>\n",
       "      <td>Consumer</td>\n",
       "      <td>FirstClass</td>\n",
       "      <td>34.200</td>\n",
       "      <td>2011</td>\n",
       "      <td>CA</td>\n",
       "      <td>False</td>\n",
       "    </tr>\n",
       "  </tbody>\n",
       "</table>\n",
       "</div>"
      ],
      "text/plain": [
       "           OrderId   Segment    ShipMode    Total  Year Country  isOutlier\n",
       "11  CA-2011-103366  Consumer  FirstClass  149.950  2011      CA      False\n",
       "20  CA-2011-109043  Consumer  FirstClass  243.600  2011      CA      False\n",
       "29  CA-2011-113166  Consumer  FirstClass    9.568  2011      CA      False\n",
       "51  CA-2011-124023  Consumer  FirstClass    8.960  2011      CA      False\n",
       "63  CA-2011-130155  Consumer  FirstClass   34.200  2011      CA      False"
      ]
     },
     "execution_count": 22,
     "metadata": {},
     "output_type": "execute_result"
    }
   ],
   "source": [
    "# outliers detection using 3-Sigma Rule\n",
    "\n",
    "# 1. Calculating the mean and standard deviation of Total\n",
    "\n",
    "mean_total = df['Total'].mean()\n",
    "std_total = df['Total'].std()\n",
    "\n",
    "# 2. Computing lower and upper bounds with mean ± 3 * std to detect outliers.\n",
    "lower_bound = mean_total - (3 * std_total)\n",
    "upper_bound = mean_total + (3 * std_total)\n",
    "\n",
    "# 3. Filtering and marking outliers with df_transactions['isOutlier']\n",
    "\n",
    "filt = (df['Total'] < lower_bound ) | (df['Total'] > upper_bound)\n",
    "\n",
    "outliers = df[filt]\n",
    "\n",
    "df['isOutlier'] = (df['Total'] < lower_bound ) | (df['Total'] > upper_bound)\n",
    "\n",
    "df.head()"
   ]
  },
  {
   "cell_type": "code",
   "execution_count": 23,
   "id": "9b3b824b",
   "metadata": {},
   "outputs": [
    {
     "data": {
      "image/png": "[encoded data removed]",
      "text/plain": [
       "<Figure size 432x288 with 1 Axes>"
      ]
     },
     "metadata": {
      "needs_background": "light"
     },
     "output_type": "display_data"
    }
   ],
   "source": [
    "#  Distribution of Total after outlier removal\n",
    "ax = sns.histplot(df[df['isOutlier']==False]['Total'],bins=40);\n",
    "\n",
    "ax.set_yscale('log')\n",
    "ax.set_title('Distribution of Total value after removing outliers');\n",
    "\n",
    "sns.despine()"
   ]
  },
  {
   "cell_type": "code",
   "execution_count": 24,
   "id": "744aac04",
   "metadata": {},
   "outputs": [
    {
     "data": {
      "image/png": "[encoded data removed]",
      "text/plain": [
       "<Figure size 432x288 with 1 Axes>"
      ]
     },
     "metadata": {
      "needs_background": "light"
     },
     "output_type": "display_data"
    }
   ],
   "source": [
    "# outlier detection using Boxplot(IQR Method) : Q3 + 1.5 * IQR and Q1 - 1.5 * IQR\n",
    "\n",
    "ax = sns.boxplot(x='Segment',y='Total', data=df );\n",
    "\n",
    "ax.set_yscale('log')\n",
    "\n",
    "sns.despine()\n",
    "\n",
    "ax.set_title('Distribution of Total across different Segments using Box plot', loc='center');\n"
   ]
  },
  {
   "cell_type": "code",
   "execution_count": 25,
   "id": "b091247e",
   "metadata": {},
   "outputs": [],
   "source": [
    "# 1. Calculating the Interquartile Range (IQR) for the Total column.\n",
    "\n",
    "Q1,Q2,Q3 = np.quantile(df['Total'],[0.25,0.50,0.75])\n",
    "\n",
    "IQR = Q3 - Q1\n",
    "\n",
    "# 2. Computing outlier bounds with Q1 - 1.5*IQR and Q3 + 1.5*IQR\n",
    "lower_bound_iqr = Q1 - (1.5 * IQR)\n",
    "upper_bound_iqr = Q3 + (1.5 * IQR)\n",
    "\n",
    "# 3. Filtering and marking outliers with df_transactions['isOutlier_IQR']\n",
    "\n",
    "filt = (df['Total'] < lower_bound_iqr) | (df['Total'] > upper_bound_iqr)\n",
    "df['isOutlier_IQR'] = filt"
   ]
  },
  {
   "cell_type": "code",
   "execution_count": 26,
   "id": "d0a5a823",
   "metadata": {},
   "outputs": [
    {
     "data": {
      "image/png": "[encoded data removed]",
      "text/plain": [
       "<Figure size 432x288 with 1 Axes>"
      ]
     },
     "metadata": {
      "needs_background": "light"
     },
     "output_type": "display_data"
    }
   ],
   "source": [
    "# after removing outliers)\n",
    "\n",
    "ax = sns.boxplot(x='Segment',y='Total', data=df[df['isOutlier_IQR']==False] );\n",
    "\n",
    "ax.set_title('Distribution of Total across different Segments using Box plot after removing outliers');\n",
    "\n",
    "ax.set_yscale('log')\n",
    "\n",
    "sns.despine()"
   ]
  },
  {
   "cell_type": "markdown",
   "id": "c61c005d",
   "metadata": {},
   "source": [
    "3-Sigma Rule: Detected 1.09% outliers, best for normal distributions.\n",
    "\n",
    "IQR Method: Detected 8.52% outliers, better for skewed distributions.\n",
    "\n",
    "The IQR Method is generally more effective at identifying a broader range of anomalies."
   ]
  },
  {
   "cell_type": "code",
   "execution_count": 28,
   "id": "e89b84b8",
   "metadata": {},
   "outputs": [
    {
     "name": "stdout",
     "output_type": "stream",
     "text": [
      "No of Outliers detected using 3S Rule: 1.09 %\n",
      "No of Outliers detected using IQR Method: 8.52 %\n"
     ]
    }
   ],
   "source": [
    "print('No of Outliers detected using 3S Rule:',round(len(df[df['isOutlier']==True])/len(df)*100,2), '%')\n",
    "print('No of Outliers detected using IQR Method:',round(len(df[df['isOutlier_IQR']==True])/len(df)*100,2),'%')"
   ]
  },
  {
   "cell_type": "code",
   "execution_count": 30,
   "id": "b87dc904",
   "metadata": {},
   "outputs": [
    {
     "data": {
      "text/html": [
       "<div>\n",
       "<style scoped>\n",
       "    .dataframe tbody tr th:only-of-type {\n",
       "        vertical-align: middle;\n",
       "    }\n",
       "\n",
       "    .dataframe tbody tr th {\n",
       "        vertical-align: top;\n",
       "    }\n",
       "\n",
       "    .dataframe thead th {\n",
       "        text-align: right;\n",
       "    }\n",
       "</style>\n",
       "<table border=\"1\" class=\"dataframe\">\n",
       "  <thead>\n",
       "    <tr style=\"text-align: right;\">\n",
       "      <th></th>\n",
       "      <th>Total</th>\n",
       "    </tr>\n",
       "  </thead>\n",
       "  <tbody>\n",
       "    <tr>\n",
       "      <th>count</th>\n",
       "      <td>813.000000</td>\n",
       "    </tr>\n",
       "    <tr>\n",
       "      <th>mean</th>\n",
       "      <td>397.101303</td>\n",
       "    </tr>\n",
       "    <tr>\n",
       "      <th>std</th>\n",
       "      <td>601.150270</td>\n",
       "    </tr>\n",
       "    <tr>\n",
       "      <th>min</th>\n",
       "      <td>1.167000</td>\n",
       "    </tr>\n",
       "    <tr>\n",
       "      <th>25%</th>\n",
       "      <td>34.340000</td>\n",
       "    </tr>\n",
       "    <tr>\n",
       "      <th>50%</th>\n",
       "      <td>155.456000</td>\n",
       "    </tr>\n",
       "    <tr>\n",
       "      <th>75%</th>\n",
       "      <td>519.680000</td>\n",
       "    </tr>\n",
       "    <tr>\n",
       "      <th>max</th>\n",
       "      <td>3769.560000</td>\n",
       "    </tr>\n",
       "  </tbody>\n",
       "</table>\n",
       "</div>"
      ],
      "text/plain": [
       "             Total\n",
       "count   813.000000\n",
       "mean    397.101303\n",
       "std     601.150270\n",
       "min       1.167000\n",
       "25%      34.340000\n",
       "50%     155.456000\n",
       "75%     519.680000\n",
       "max    3769.560000"
      ]
     },
     "execution_count": 30,
     "metadata": {},
     "output_type": "execute_result"
    }
   ],
   "source": [
    "df[df['isOutlier']==False].describe()"
   ]
  },
  {
   "cell_type": "markdown",
   "id": "d84e55cb",
   "metadata": {},
   "source": [
    "# 4. Data Visualization\n",
    "\n"
   ]
  },
  {
   "cell_type": "code",
   "execution_count": 31,
   "id": "73d789ac",
   "metadata": {},
   "outputs": [
    {
     "data": {
      "text/plain": [
       "Consumer      0.540146\n",
       "Corporate     0.300487\n",
       "HomeOffice    0.159367\n",
       "Name: Segment, dtype: float64"
      ]
     },
     "execution_count": 31,
     "metadata": {},
     "output_type": "execute_result"
    }
   ],
   "source": [
    "# Before visualizing data, will first focus on distribution of categorical varaibles like Segment and ShipMode\n",
    "\n",
    "df['Segment'].value_counts(normalize=True)"
   ]
  },
  {
   "cell_type": "code",
   "execution_count": 32,
   "id": "abc69ec8",
   "metadata": {},
   "outputs": [
    {
     "data": {
      "text/plain": [
       "StandardClass    0.602190\n",
       "Secondclass      0.199513\n",
       "FirstClass       0.150852\n",
       "Sameday          0.047445\n",
       "Name: ShipMode, dtype: float64"
      ]
     },
     "execution_count": 32,
     "metadata": {},
     "output_type": "execute_result"
    }
   ],
   "source": [
    "df['ShipMode'].value_counts(normalize=True)"
   ]
  },
  {
   "cell_type": "markdown",
   "id": "ce217493",
   "metadata": {},
   "source": [
    "Below Charts represents the \"count\" and \"\"bar\" chart respectively, \n",
    "\n",
    "which shows the number of transactions in each Segment by ShipMode and total sum of transactions.\n",
    "\n",
    "From these charts, it is evident that all the ShipModes has highest Consumer Segment compared to \n",
    "\n",
    "other segments and HomeOffice as the lowest.\n",
    "\n",
    "\"HomeOffice\" Segment has fewer number of transactions and total sum in \"SameDay\" shipping mode \n",
    "\n",
    "indicates that they might prefer more affordable options like \"StandardClass\".\n"
   ]
  },
  {
   "cell_type": "code",
   "execution_count": 33,
   "id": "f0ba3c41",
   "metadata": {},
   "outputs": [
    {
     "data": {
      "image/png": "[encoded data removed]",
      "text/plain": [
       "<Figure size 1440x360 with 4 Axes>"
      ]
     },
     "metadata": {
      "needs_background": "light"
     },
     "output_type": "display_data"
    }
   ],
   "source": [
    "# visualizes the count of segments grouped by ShipMode.\n",
    "\n",
    "sns.catplot(x='Segment',data=df[df['isOutlier']==False],\n",
    "           kind='count', col='ShipMode',ci=None           \n",
    "           );"
   ]
  },
  {
   "cell_type": "code",
   "execution_count": 34,
   "id": "1338e3a4",
   "metadata": {},
   "outputs": [
    {
     "data": {
      "image/png": "[encoded data removed]",
      "text/plain": [
       "<Figure size 1440x360 with 4 Axes>"
      ]
     },
     "metadata": {
      "needs_background": "light"
     },
     "output_type": "display_data"
    }
   ],
   "source": [
    "# displays total values for each segment by ShipMode.\n",
    "\n",
    "sns.catplot(x='Segment',y='Total',data=df[df['isOutlier']==False],\n",
    "           kind='bar', col='ShipMode',\n",
    "            estimator= np.sum,ci=None          \n",
    "           )\n",
    "plt.show()"
   ]
  },
  {
   "cell_type": "markdown",
   "id": "31ef0044",
   "metadata": {},
   "source": [
    "The above two charts can be combines and plotted together by using \"Horizontal\" bar chart.\n",
    "\n",
    "\n",
    "Each bar represents the specific combination of Segment - ShipMode and\n",
    "\n",
    "\n",
    "length of the bar indicate the total sales for that combined category."
   ]
  },
  {
   "cell_type": "markdown",
   "id": "4ef70702",
   "metadata": {},
   "source": [
    "\n",
    "\n",
    "The below plot shows the total sales for different combinations of customer Segment and ShippingMode.\n",
    "\n",
    "Longer bars mean higher sales, while shorter bars show lower sales.\n",
    "\n",
    "The combinations are sorted, with the highest sales at the top.\n",
    "\n",
    "It looks like \"Consumer\" with certain shipping modes (ex: StandardClass and SecondClass) likely has the most sales, \n",
    "\n",
    "while \"Home Office\" might have fewer.\n",
    "\n",
    "This helps identify which groups and shipping methods contribute most to sales!"
   ]
  },
  {
   "cell_type": "code",
   "execution_count": 36,
   "id": "c01f6bab",
   "metadata": {},
   "outputs": [
    {
     "data": {
      "image/png": "[encoded data removed]",
      "text/plain": [
       "<Figure size 432x288 with 1 Axes>"
      ]
     },
     "metadata": {
      "needs_background": "light"
     },
     "output_type": "display_data"
    }
   ],
   "source": [
    "# shows total sales grouped by Segment and ShipMode.\n",
    "\n",
    "# Combine 'Segment' and 'ShipMode' into a new column\n",
    "df[\"Segment_ShipMode\"] = df[\"Segment\"] + \" - \" + df[\"ShipMode\"]\n",
    "\n",
    "# Group by the new column and calculate total sales\n",
    "grouped_data = df.groupby(\"Segment_ShipMode\")[\"Total\"].sum().reset_index()\n",
    "grouped_data = grouped_data.sort_values(\"Total\", ascending=False)\n",
    "\n",
    "# Create a horizontal bar chart\n",
    "sns.barplot(data=grouped_data, y=\"Segment_ShipMode\", x=\"Total\", palette=\"viridis\")\n",
    "plt.title(\"Total Sales by Segment and ShipMode\")\n",
    "plt.xlabel(\"Total Sales\")\n",
    "plt.ylabel(\"Segment - ShipMode\")\n",
    "plt.show()"
   ]
  },
  {
   "cell_type": "code",
   "execution_count": null,
   "id": "a9801ce8",
   "metadata": {},
   "outputs": [],
   "source": []
  }
 ],
 "metadata": {
  "kernelspec": {
   "display_name": "Python 3 (ipykernel)",
   "language": "python",
   "name": "python3"
  },
  "language_info": {
   "codemirror_mode": {
    "name": "ipython",
    "version": 3
   },
   "file_extension": ".py",
   "mimetype": "text/x-python",
   "name": "python",
   "nbconvert_exporter": "python",
   "pygments_lexer": "ipython3",
   "version": "3.9.12"
  }
 },
 "nbformat": 4,
 "nbformat_minor": 5
}
